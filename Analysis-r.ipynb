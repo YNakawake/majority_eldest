{
 "cells": [
  {
   "cell_type": "markdown",
   "metadata": {},
   "source": [
    "# Preparetion"
   ]
  },
  {
   "cell_type": "code",
   "execution_count": 1,
   "metadata": {},
   "outputs": [
    {
     "name": "stderr",
     "output_type": "stream",
     "text": [
      "\n",
      "Attaching package: ‘dplyr’\n",
      "\n",
      "\n",
      "The following objects are masked from ‘package:stats’:\n",
      "\n",
      "    filter, lag\n",
      "\n",
      "\n",
      "The following objects are masked from ‘package:base’:\n",
      "\n",
      "    intersect, setdiff, setequal, union\n",
      "\n",
      "\n",
      "Loading required package: foreign\n",
      "\n",
      "Loading required package: survival\n",
      "\n",
      "Loading required package: MASS\n",
      "\n",
      "\n",
      "Attaching package: ‘MASS’\n",
      "\n",
      "\n",
      "The following object is masked from ‘package:dplyr’:\n",
      "\n",
      "    select\n",
      "\n",
      "\n",
      "Loading required package: nnet\n",
      "\n",
      "\n",
      "Attaching package: ‘epiDisplay’\n",
      "\n",
      "\n",
      "The following objects are masked from ‘package:psych’:\n",
      "\n",
      "    alpha, cs, lookup\n",
      "\n",
      "\n"
     ]
    }
   ],
   "source": [
    "library(dplyr) ## pipe command\n",
    "library(psych) ## phi coefficent\n",
    "library(epiDisplay)## Calculating odd ration \n",
    "library(performance) ## Caculating psuedo R^2"
   ]
  },
  {
   "cell_type": "code",
   "execution_count": 2,
   "metadata": {},
   "outputs": [
    {
     "data": {
      "text/plain": [
       "R version 4.0.3 (2020-10-10)\n",
       "Platform: x86_64-apple-darwin17.0 (64-bit)\n",
       "Running under: macOS Catalina 10.15.7\n",
       "\n",
       "Matrix products: default\n",
       "BLAS:   /Library/Frameworks/R.framework/Versions/4.0/Resources/lib/libRblas.dylib\n",
       "LAPACK: /Library/Frameworks/R.framework/Versions/4.0/Resources/lib/libRlapack.dylib\n",
       "\n",
       "locale:\n",
       "[1] ja_JP.UTF-8/ja_JP.UTF-8/ja_JP.UTF-8/C/ja_JP.UTF-8/ja_JP.UTF-8\n",
       "\n",
       "attached base packages:\n",
       "[1] stats     graphics  grDevices utils     datasets  methods   base     \n",
       "\n",
       "other attached packages:\n",
       "[1] performance_0.7.0  epiDisplay_3.5.0.1 nnet_7.3-14        MASS_7.3-53       \n",
       "[5] survival_3.2-7     foreign_0.8-80     psych_2.0.12       dplyr_1.0.2       \n",
       "\n",
       "loaded via a namespace (and not attached):\n",
       " [1] pillar_1.4.7        compiler_4.0.3      base64enc_0.1-3    \n",
       " [4] tools_4.0.3         digest_0.6.27       uuid_0.1-4         \n",
       " [7] jsonlite_1.7.2      evaluate_0.14       lifecycle_0.2.0    \n",
       "[10] tibble_3.0.4        nlme_3.1-149        lattice_0.20-41    \n",
       "[13] pkgconfig_2.0.3     rlang_0.4.10        Matrix_1.2-18      \n",
       "[16] IRdisplay_0.7.0     IRkernel_1.1.1.9000 parallel_4.0.3     \n",
       "[19] bayestestR_0.8.2    repr_1.1.0          generics_0.1.0     \n",
       "[22] vctrs_0.3.6         grid_4.0.3          tidyselect_1.1.0   \n",
       "[25] glue_1.4.2          R6_2.5.0            pbdZMQ_0.3-4       \n",
       "[28] purrr_0.3.4         magrittr_2.0.1      ellipsis_0.3.1     \n",
       "[31] htmltools_0.5.0     splines_4.0.3       insight_0.13.2     \n",
       "[34] mnormt_2.0.2        tmvnsim_1.0-2       crayon_1.3.4       "
      ]
     },
     "metadata": {},
     "output_type": "display_data"
    }
   ],
   "source": [
    "sessionInfo()"
   ]
  },
  {
   "cell_type": "markdown",
   "metadata": {},
   "source": [
    "## reading data"
   ]
  },
  {
   "cell_type": "code",
   "execution_count": 3,
   "metadata": {},
   "outputs": [],
   "source": [
    "raw_df<-read.csv(\"data.csv\")"
   ]
  },
  {
   "cell_type": "markdown",
   "metadata": {},
   "source": [
    "## data coding and standardization"
   ]
  },
  {
   "cell_type": "code",
   "execution_count": 4,
   "metadata": {},
   "outputs": [
    {
     "data": {
      "text/html": [
       "<table>\n",
       "<caption>A data.frame: 6 × 8</caption>\n",
       "<thead>\n",
       "\t<tr><th></th><th scope=col>ID</th><th scope=col>Idsub</th><th scope=col>Place_code</th><th scope=col>Gender</th><th scope=col>Majority</th><th scope=col>age</th><th scope=col>Majorityval</th><th scope=col>age_non</th></tr>\n",
       "\t<tr><th></th><th scope=col>&lt;int&gt;</th><th scope=col>&lt;int&gt;</th><th scope=col>&lt;chr&gt;</th><th scope=col>&lt;chr&gt;</th><th scope=col>&lt;chr&gt;</th><th scope=col>&lt;dbl&gt;</th><th scope=col>&lt;dbl&gt;</th><th scope=col>&lt;int&gt;</th></tr>\n",
       "</thead>\n",
       "<tbody>\n",
       "\t<tr><th scope=row>2</th><td>2</td><td>2</td><td>monastery</td><td>M</td><td>O</td><td> 0.9966890</td><td>0</td><td> 9</td></tr>\n",
       "\t<tr><th scope=row>3</th><td>3</td><td>3</td><td>monastery</td><td>M</td><td>E</td><td> 0.9966890</td><td>1</td><td> 9</td></tr>\n",
       "\t<tr><th scope=row>5</th><td>5</td><td>5</td><td>monastery</td><td>M</td><td>E</td><td>        NA</td><td>1</td><td>NA</td></tr>\n",
       "\t<tr><th scope=row>6</th><td>6</td><td>6</td><td>monastery</td><td>M</td><td>E</td><td> 1.5780909</td><td>1</td><td>10</td></tr>\n",
       "\t<tr><th scope=row>7</th><td>7</td><td>7</td><td>monastery</td><td>M</td><td>O</td><td> 0.4152871</td><td>0</td><td> 8</td></tr>\n",
       "\t<tr><th scope=row>8</th><td>8</td><td>8</td><td>monastery</td><td>M</td><td>O</td><td>-0.7475167</td><td>0</td><td> 6</td></tr>\n",
       "</tbody>\n",
       "</table>\n"
      ],
      "text/latex": [
       "A data.frame: 6 × 8\n",
       "\\begin{tabular}{r|llllllll}\n",
       "  & ID & Idsub & Place\\_code & Gender & Majority & age & Majorityval & age\\_non\\\\\n",
       "  & <int> & <int> & <chr> & <chr> & <chr> & <dbl> & <dbl> & <int>\\\\\n",
       "\\hline\n",
       "\t2 & 2 & 2 & monastery & M & O &  0.9966890 & 0 &  9\\\\\n",
       "\t3 & 3 & 3 & monastery & M & E &  0.9966890 & 1 &  9\\\\\n",
       "\t5 & 5 & 5 & monastery & M & E &         NA & 1 & NA\\\\\n",
       "\t6 & 6 & 6 & monastery & M & E &  1.5780909 & 1 & 10\\\\\n",
       "\t7 & 7 & 7 & monastery & M & O &  0.4152871 & 0 &  8\\\\\n",
       "\t8 & 8 & 8 & monastery & M & O & -0.7475167 & 0 &  6\\\\\n",
       "\\end{tabular}\n"
      ],
      "text/markdown": [
       "\n",
       "A data.frame: 6 × 8\n",
       "\n",
       "| <!--/--> | ID &lt;int&gt; | Idsub &lt;int&gt; | Place_code &lt;chr&gt; | Gender &lt;chr&gt; | Majority &lt;chr&gt; | age &lt;dbl&gt; | Majorityval &lt;dbl&gt; | age_non &lt;int&gt; |\n",
       "|---|---|---|---|---|---|---|---|---|\n",
       "| 2 | 2 | 2 | monastery | M | O |  0.9966890 | 0 |  9 |\n",
       "| 3 | 3 | 3 | monastery | M | E |  0.9966890 | 1 |  9 |\n",
       "| 5 | 5 | 5 | monastery | M | E |         NA | 1 | NA |\n",
       "| 6 | 6 | 6 | monastery | M | E |  1.5780909 | 1 | 10 |\n",
       "| 7 | 7 | 7 | monastery | M | O |  0.4152871 | 0 |  8 |\n",
       "| 8 | 8 | 8 | monastery | M | O | -0.7475167 | 0 |  6 |\n",
       "\n"
      ],
      "text/plain": [
       "  ID Idsub Place_code Gender Majority age        Majorityval age_non\n",
       "2 2  2     monastery  M      O         0.9966890 0            9     \n",
       "3 3  3     monastery  M      E         0.9966890 1            9     \n",
       "5 5  5     monastery  M      E                NA 1           NA     \n",
       "6 6  6     monastery  M      E         1.5780909 1           10     \n",
       "7 7  7     monastery  M      O         0.4152871 0            8     \n",
       "8 8  8     monastery  M      O        -0.7475167 0            6     "
      ]
     },
     "metadata": {},
     "output_type": "display_data"
    }
   ],
   "source": [
    "ansID = raw_df$Majority != \"noanswer\"\n",
    "\n",
    "\n",
    "df<-raw_df[ansID,]\n",
    "\n",
    "Majorityval<-numeric(dim(df)[2])\n",
    "Majorityval[df$Majority == \"E\"]<-1\n",
    "Majorityval[df$Majority == \"O\"]<-0\n",
    "age_non<-df$age\n",
    "\n",
    "df$age<-as.numeric(scale(df$age))\n",
    "\n",
    "df<-cbind(df, Majorityval)\n",
    "df<-cbind(df, age_non)\n",
    "head(df)"
   ]
  },
  {
   "cell_type": "markdown",
   "metadata": {},
   "source": [
    "## discriptive statistics  in cross table"
   ]
  },
  {
   "cell_type": "markdown",
   "metadata": {},
   "source": [
    "### gender  x field sights"
   ]
  },
  {
   "cell_type": "code",
   "execution_count": 5,
   "metadata": {},
   "outputs": [
    {
     "data": {
      "text/plain": [
       "   \n",
       "    day_care international monastery\n",
       "  F        5             4         0\n",
       "  M       10             3        29"
      ]
     },
     "metadata": {},
     "output_type": "display_data"
    }
   ],
   "source": [
    "table(df$Gender, df$Place_code)"
   ]
  },
  {
   "cell_type": "markdown",
   "metadata": {},
   "source": [
    "### age  x field sights"
   ]
  },
  {
   "cell_type": "code",
   "execution_count": 6,
   "metadata": {},
   "outputs": [
    {
     "data": {
      "text/plain": [
       "               \n",
       "                4 5 6 7 8 9 10 11\n",
       "  day_care      1 2 5 1 2 2  1  1\n",
       "  international 0 0 2 3 2 0  0  0\n",
       "  monastery     0 4 5 5 5 4  3  1"
      ]
     },
     "metadata": {},
     "output_type": "display_data"
    }
   ],
   "source": [
    "table(df$Place_code, df $age_non)"
   ]
  },
  {
   "cell_type": "markdown",
   "metadata": {},
   "source": [
    "### gender  x age"
   ]
  },
  {
   "cell_type": "code",
   "execution_count": 7,
   "metadata": {},
   "outputs": [
    {
     "data": {
      "text/plain": [
       "   \n",
       "    4 5 6 7 8 9 10 11\n",
       "  F 1 1 3 3 0 1  0  0\n",
       "  M 0 5 9 6 9 5  4  2"
      ]
     },
     "metadata": {},
     "output_type": "display_data"
    }
   ],
   "source": [
    "table(df$Gender, df $age_non)"
   ]
  },
  {
   "cell_type": "markdown",
   "metadata": {},
   "source": [
    "## mean and SD: age"
   ]
  },
  {
   "cell_type": "code",
   "execution_count": 8,
   "metadata": {},
   "outputs": [
    {
     "data": {
      "text/html": [
       "7.28571428571429"
      ],
      "text/latex": [
       "7.28571428571429"
      ],
      "text/markdown": [
       "7.28571428571429"
      ],
      "text/plain": [
       "[1] 7.285714"
      ]
     },
     "metadata": {},
     "output_type": "display_data"
    },
    {
     "data": {
      "text/html": [
       "1.71998062004586"
      ],
      "text/latex": [
       "1.71998062004586"
      ],
      "text/markdown": [
       "1.71998062004586"
      ],
      "text/plain": [
       "[1] 1.719981"
      ]
     },
     "metadata": {},
     "output_type": "display_data"
    }
   ],
   "source": [
    "mean(age_non[!is.na(age_non)])\n",
    "sd(age_non[!is.na(age_non)])"
   ]
  },
  {
   "cell_type": "code",
   "execution_count": 9,
   "metadata": {},
   "outputs": [
    {
     "data": {
      "text/html": [
       "7.067"
      ],
      "text/latex": [
       "7.067"
      ],
      "text/markdown": [
       "7.067"
      ],
      "text/plain": [
       "[1] 7.067"
      ]
     },
     "metadata": {},
     "output_type": "display_data"
    },
    {
     "data": {
      "text/html": [
       "2.017"
      ],
      "text/latex": [
       "2.017"
      ],
      "text/markdown": [
       "2.017"
      ],
      "text/plain": [
       "[1] 2.017"
      ]
     },
     "metadata": {},
     "output_type": "display_data"
    },
    {
     "data": {
      "text/html": [
       "7.481"
      ],
      "text/latex": [
       "7.481"
      ],
      "text/markdown": [
       "7.481"
      ],
      "text/plain": [
       "[1] 7.481"
      ]
     },
     "metadata": {},
     "output_type": "display_data"
    },
    {
     "data": {
      "text/html": [
       "1.74"
      ],
      "text/latex": [
       "1.74"
      ],
      "text/markdown": [
       "1.74"
      ],
      "text/plain": [
       "[1] 1.74"
      ]
     },
     "metadata": {},
     "output_type": "display_data"
    },
    {
     "data": {
      "text/html": [
       "7"
      ],
      "text/latex": [
       "7"
      ],
      "text/markdown": [
       "7"
      ],
      "text/plain": [
       "[1] 7"
      ]
     },
     "metadata": {},
     "output_type": "display_data"
    },
    {
     "data": {
      "text/html": [
       "0.816"
      ],
      "text/latex": [
       "0.816"
      ],
      "text/markdown": [
       "0.816"
      ],
      "text/plain": [
       "[1] 0.816"
      ]
     },
     "metadata": {},
     "output_type": "display_data"
    }
   ],
   "source": [
    "NonNAdf<-df[!is.na(age_non),] \n",
    "\n",
    "NonNAdf[NonNAdf$Place_code ==  \"day_care\",]$age_non %>% mean() %>% round (.,3)\n",
    "NonNAdf[NonNAdf$Place_code ==  \"day_care\",]$age_non %>% sd() %>% round (.,3)\n",
    "\n",
    "NonNAdf[NonNAdf$Place_code ==  \"monastery\",]$age_non %>% mean() %>% round (.,3)\n",
    "NonNAdf[NonNAdf$Place_code ==  \"monastery\",]$age_non %>% sd() %>% round (.,3)\n",
    "\n",
    "\n",
    "NonNAdf[NonNAdf$Place_code ==  \"international\",]$age_non %>% mean() %>% round (.,3)\n",
    "NonNAdf[NonNAdf$Place_code ==  \"international\",]$age_non %>% sd() %>% round (.,3)\n"
   ]
  },
  {
   "cell_type": "markdown",
   "metadata": {},
   "source": [
    "# Analysis"
   ]
  },
  {
   "cell_type": "markdown",
   "metadata": {},
   "source": [
    "## GLM"
   ]
  },
  {
   "cell_type": "markdown",
   "metadata": {},
   "source": [
    "### additive model"
   ]
  },
  {
   "cell_type": "markdown",
   "metadata": {},
   "source": [
    "#### summary"
   ]
  },
  {
   "cell_type": "code",
   "execution_count": 10,
   "metadata": {},
   "outputs": [],
   "source": [
    "glm_additive<-glm(data =df , Majorityval ~ Place_code+Gender+age , family = binomial(logit))"
   ]
  },
  {
   "cell_type": "code",
   "execution_count": 11,
   "metadata": {},
   "outputs": [
    {
     "data": {
      "text/plain": [
       "\n",
       "Call:\n",
       "glm(formula = Majorityval ~ Place_code + Gender + age, family = binomial(logit), \n",
       "    data = df)\n",
       "\n",
       "Deviance Residuals: \n",
       "    Min       1Q   Median       3Q      Max  \n",
       "-1.8869  -0.9150  -0.8269   1.0614   1.5744  \n",
       "\n",
       "Coefficients:\n",
       "                        Estimate Std. Error z value Pr(>|z|)  \n",
       "(Intercept)              -0.5241     0.9046  -0.579   0.5623  \n",
       "Place_codeinternational   0.8265     1.1754   0.703   0.4819  \n",
       "Place_codemonastery      -2.2498     0.8919  -2.522   0.0117 *\n",
       "GenderM                   2.0618     1.1264   1.830   0.0672 .\n",
       "age                       0.1394     0.3377   0.413   0.6798  \n",
       "---\n",
       "Signif. codes:  0 ‘***’ 0.001 ‘**’ 0.01 ‘*’ 0.05 ‘.’ 0.1 ‘ ’ 1\n",
       "\n",
       "(Dispersion parameter for binomial family taken to be 1)\n",
       "\n",
       "    Null deviance: 67.908  on 48  degrees of freedom\n",
       "Residual deviance: 57.153  on 44  degrees of freedom\n",
       "  (2 observations deleted due to missingness)\n",
       "AIC: 67.153\n",
       "\n",
       "Number of Fisher Scoring iterations: 4\n"
      ]
     },
     "metadata": {},
     "output_type": "display_data"
    }
   ],
   "source": [
    "summary(glm_additive)"
   ]
  },
  {
   "cell_type": "markdown",
   "metadata": {},
   "source": [
    "#### odd ratio"
   ]
  },
  {
   "cell_type": "code",
   "execution_count": 12,
   "metadata": {},
   "outputs": [
    {
     "name": "stderr",
     "output_type": "stream",
     "text": [
      "Waiting for profiling to be done...\n",
      "\n"
     ]
    },
    {
     "data": {
      "text/html": [
       "<table>\n",
       "<caption>A matrix: 5 × 3 of type dbl</caption>\n",
       "<thead>\n",
       "\t<tr><th></th><th scope=col>OR</th><th scope=col>LowerCL</th><th scope=col>UpperCL</th></tr>\n",
       "</thead>\n",
       "<tbody>\n",
       "\t<tr><th scope=row>(Intercept)</th><td>0.592</td><td>0.078</td><td> 3.306</td></tr>\n",
       "\t<tr><th scope=row>Place_codeinternational</th><td>2.285</td><td>0.261</td><td>30.453</td></tr>\n",
       "\t<tr><th scope=row>Place_codemonastery</th><td>0.105</td><td>0.014</td><td> 0.521</td></tr>\n",
       "\t<tr><th scope=row>GenderM</th><td>7.860</td><td>1.008</td><td>96.778</td></tr>\n",
       "\t<tr><th scope=row>age</th><td>1.150</td><td>0.592</td><td> 2.278</td></tr>\n",
       "</tbody>\n",
       "</table>\n"
      ],
      "text/latex": [
       "A matrix: 5 × 3 of type dbl\n",
       "\\begin{tabular}{r|lll}\n",
       "  & OR & LowerCL & UpperCL\\\\\n",
       "\\hline\n",
       "\t(Intercept) & 0.592 & 0.078 &  3.306\\\\\n",
       "\tPlace\\_codeinternational & 2.285 & 0.261 & 30.453\\\\\n",
       "\tPlace\\_codemonastery & 0.105 & 0.014 &  0.521\\\\\n",
       "\tGenderM & 7.860 & 1.008 & 96.778\\\\\n",
       "\tage & 1.150 & 0.592 &  2.278\\\\\n",
       "\\end{tabular}\n"
      ],
      "text/markdown": [
       "\n",
       "A matrix: 5 × 3 of type dbl\n",
       "\n",
       "| <!--/--> | OR | LowerCL | UpperCL |\n",
       "|---|---|---|---|\n",
       "| (Intercept) | 0.592 | 0.078 |  3.306 |\n",
       "| Place_codeinternational | 2.285 | 0.261 | 30.453 |\n",
       "| Place_codemonastery | 0.105 | 0.014 |  0.521 |\n",
       "| GenderM | 7.860 | 1.008 | 96.778 |\n",
       "| age | 1.150 | 0.592 |  2.278 |\n",
       "\n"
      ],
      "text/plain": [
       "                        OR    LowerCL UpperCL\n",
       "(Intercept)             0.592 0.078    3.306 \n",
       "Place_codeinternational 2.285 0.261   30.453 \n",
       "Place_codemonastery     0.105 0.014    0.521 \n",
       "GenderM                 7.860 1.008   96.778 \n",
       "age                     1.150 0.592    2.278 "
      ]
     },
     "metadata": {},
     "output_type": "display_data"
    }
   ],
   "source": [
    "ModelName <- glm_additive\n",
    "alpha <- 0.05\n",
    "x <- summary(ModelName)\n",
    "y <- confint(ModelName, level=1-alpha)\n",
    "OR <- exp(x$coefficients[,1])\n",
    "LowerCL <- exp(y[,1])\n",
    "UpperCL <- exp(y[,2])\n",
    "z <- cbind(OR, LowerCL, UpperCL)\n",
    "round(z, 3)"
   ]
  },
  {
   "cell_type": "markdown",
   "metadata": {},
   "source": [
    "#### Tjur's R2"
   ]
  },
  {
   "cell_type": "code",
   "execution_count": 13,
   "metadata": {},
   "outputs": [
    {
     "data": {
      "text/html": [
       "<strong>$R2_Tjur</strong> = <strong>Tjur's R2:</strong> 0.20031871099529"
      ],
      "text/latex": [
       "\\textbf{\\$R2\\_Tjur} = \\textbf{Tjur's R2:} 0.20031871099529"
      ],
      "text/markdown": [
       "**$R2_Tjur** = **Tjur's R2:** 0.20031871099529"
      ],
      "text/plain": [
       "$R2_Tjur\n",
       "Tjur's R2 \n",
       "0.2003187 \n"
      ]
     },
     "metadata": {},
     "output_type": "display_data"
    }
   ],
   "source": [
    "r2(glm_additive)"
   ]
  },
  {
   "cell_type": "markdown",
   "metadata": {},
   "source": [
    "### additive model　(non standardized)"
   ]
  },
  {
   "cell_type": "code",
   "execution_count": 14,
   "metadata": {},
   "outputs": [
    {
     "data": {
      "text/plain": [
       "\n",
       "Call:\n",
       "glm(formula = Majorityval ~ Place_code + Gender + age_non, family = binomial(logit), \n",
       "    data = df)\n",
       "\n",
       "Deviance Residuals: \n",
       "    Min       1Q   Median       3Q      Max  \n",
       "-1.8869  -0.9150  -0.8269   1.0614   1.5744  \n",
       "\n",
       "Coefficients:\n",
       "                        Estimate Std. Error z value Pr(>|z|)  \n",
       "(Intercept)             -1.11452    1.49616  -0.745   0.4563  \n",
       "Place_codeinternational  0.82654    1.17544   0.703   0.4819  \n",
       "Place_codemonastery     -2.24981    0.89191  -2.522   0.0117 *\n",
       "GenderM                  2.06176    1.12637   1.830   0.0672 .\n",
       "age_non                  0.08104    0.19633   0.413   0.6798  \n",
       "---\n",
       "Signif. codes:  0 ‘***’ 0.001 ‘**’ 0.01 ‘*’ 0.05 ‘.’ 0.1 ‘ ’ 1\n",
       "\n",
       "(Dispersion parameter for binomial family taken to be 1)\n",
       "\n",
       "    Null deviance: 67.908  on 48  degrees of freedom\n",
       "Residual deviance: 57.153  on 44  degrees of freedom\n",
       "  (2 observations deleted due to missingness)\n",
       "AIC: 67.153\n",
       "\n",
       "Number of Fisher Scoring iterations: 4\n"
      ]
     },
     "metadata": {},
     "output_type": "display_data"
    },
    {
     "data": {
      "text/html": [
       "<strong>$R2_Tjur</strong> = <strong>Tjur's R2:</strong> 0.20031871099529"
      ],
      "text/latex": [
       "\\textbf{\\$R2\\_Tjur} = \\textbf{Tjur's R2:} 0.20031871099529"
      ],
      "text/markdown": [
       "**$R2_Tjur** = **Tjur's R2:** 0.20031871099529"
      ],
      "text/plain": [
       "$R2_Tjur\n",
       "Tjur's R2 \n",
       "0.2003187 \n"
      ]
     },
     "metadata": {},
     "output_type": "display_data"
    }
   ],
   "source": [
    "glm_additive_non_stand<-glm(data =df , Majorityval ~ Place_code+Gender+age_non , family = binomial(logit))\n",
    "summary(glm_additive_non_stand)\n",
    "r2(glm_additive_non_stand)"
   ]
  },
  {
   "cell_type": "code",
   "execution_count": 15,
   "metadata": {},
   "outputs": [
    {
     "data": {
      "text/html": [
       "<strong>$R2_Tjur</strong> = <strong>Tjur's R2:</strong> 0.20031871099529"
      ],
      "text/latex": [
       "\\textbf{\\$R2\\_Tjur} = \\textbf{Tjur's R2:} 0.20031871099529"
      ],
      "text/markdown": [
       "**$R2_Tjur** = **Tjur's R2:** 0.20031871099529"
      ],
      "text/plain": [
       "$R2_Tjur\n",
       "Tjur's R2 \n",
       "0.2003187 \n"
      ]
     },
     "metadata": {},
     "output_type": "display_data"
    }
   ],
   "source": [
    "r2(glm_additive)"
   ]
  },
  {
   "cell_type": "markdown",
   "metadata": {},
   "source": [
    "### full model"
   ]
  },
  {
   "cell_type": "code",
   "execution_count": 16,
   "metadata": {},
   "outputs": [],
   "source": [
    "glm_full<-glm(data =df , Majorityval ~ Place_code*age*Gender , family = binomial)"
   ]
  },
  {
   "cell_type": "code",
   "execution_count": 17,
   "metadata": {},
   "outputs": [
    {
     "data": {
      "text/plain": [
       "\n",
       "Call:\n",
       "glm(formula = Majorityval ~ Place_code * age * Gender, family = binomial, \n",
       "    data = df)\n",
       "\n",
       "Deviance Residuals: \n",
       "    Min       1Q   Median       3Q      Max  \n",
       "-1.8615  -0.9005  -0.8658   0.8520   1.6323  \n",
       "\n",
       "Coefficients: (2 not defined because of singularities)\n",
       "                                     Estimate Std. Error z value Pr(>|z|)  \n",
       "(Intercept)                           -0.0354     1.1605  -0.031   0.9757  \n",
       "Place_codeinternational               -5.8747  1130.3389  -0.005   0.9959  \n",
       "Place_codemonastery                   -2.0700     0.9041  -2.289   0.0221 *\n",
       "age                                    0.5185     0.9749   0.532   0.5949  \n",
       "GenderM                                1.4041     1.4122   0.994   0.3201  \n",
       "Place_codeinternational:age          -31.9240  6804.5539  -0.005   0.9963  \n",
       "Place_codemonastery:age               -0.3426     0.9092  -0.377   0.7063  \n",
       "Place_codeinternational:GenderM       22.0721  2551.0972   0.009   0.9931  \n",
       "Place_codemonastery:GenderM                NA         NA      NA       NA  \n",
       "age:GenderM                           -0.1105     1.2682  -0.087   0.9306  \n",
       "Place_codeinternational:age:GenderM   31.5160  7979.0466   0.004   0.9968  \n",
       "Place_codemonastery:age:GenderM            NA         NA      NA       NA  \n",
       "---\n",
       "Signif. codes:  0 ‘***’ 0.001 ‘**’ 0.01 ‘*’ 0.05 ‘.’ 0.1 ‘ ’ 1\n",
       "\n",
       "(Dispersion parameter for binomial family taken to be 1)\n",
       "\n",
       "    Null deviance: 67.908  on 48  degrees of freedom\n",
       "Residual deviance: 54.331  on 39  degrees of freedom\n",
       "  (2 observations deleted due to missingness)\n",
       "AIC: 74.331\n",
       "\n",
       "Number of Fisher Scoring iterations: 16\n"
      ]
     },
     "metadata": {},
     "output_type": "display_data"
    },
    {
     "data": {
      "text/html": [
       "<strong>$R2_Tjur</strong> = <strong>Tjur's R2:</strong> 0.236754547963343"
      ],
      "text/latex": [
       "\\textbf{\\$R2\\_Tjur} = \\textbf{Tjur's R2:} 0.236754547963343"
      ],
      "text/markdown": [
       "**$R2_Tjur** = **Tjur's R2:** 0.236754547963343"
      ],
      "text/plain": [
       "$R2_Tjur\n",
       "Tjur's R2 \n",
       "0.2367545 \n"
      ]
     },
     "metadata": {},
     "output_type": "display_data"
    }
   ],
   "source": [
    "summary(glm_full)\n",
    "r2(glm_full)"
   ]
  },
  {
   "cell_type": "markdown",
   "metadata": {},
   "source": [
    "## Complementary analysis Chi-squared test"
   ]
  },
  {
   "cell_type": "markdown",
   "metadata": {},
   "source": [
    "### preparation"
   ]
  },
  {
   "cell_type": "code",
   "execution_count": 18,
   "metadata": {},
   "outputs": [
    {
     "data": {
      "text/html": [
       "<table>\n",
       "<caption>A data.frame: 6 × 9</caption>\n",
       "<thead>\n",
       "\t<tr><th></th><th scope=col>ID</th><th scope=col>Idsub</th><th scope=col>Place_code</th><th scope=col>Gender</th><th scope=col>Majority</th><th scope=col>age</th><th scope=col>Majorityval</th><th scope=col>age_non</th><th scope=col>monestry_val</th></tr>\n",
       "\t<tr><th></th><th scope=col>&lt;int&gt;</th><th scope=col>&lt;int&gt;</th><th scope=col>&lt;chr&gt;</th><th scope=col>&lt;chr&gt;</th><th scope=col>&lt;chr&gt;</th><th scope=col>&lt;dbl&gt;</th><th scope=col>&lt;dbl&gt;</th><th scope=col>&lt;int&gt;</th><th scope=col>&lt;dbl&gt;</th></tr>\n",
       "</thead>\n",
       "<tbody>\n",
       "\t<tr><th scope=row>1</th><td>2</td><td>2</td><td>monastery</td><td>M</td><td>O</td><td> 0.9966890</td><td>0</td><td> 9</td><td>1</td></tr>\n",
       "\t<tr><th scope=row>2</th><td>3</td><td>3</td><td>monastery</td><td>M</td><td>E</td><td> 0.9966890</td><td>1</td><td> 9</td><td>1</td></tr>\n",
       "\t<tr><th scope=row>3</th><td>5</td><td>5</td><td>monastery</td><td>M</td><td>E</td><td>        NA</td><td>1</td><td>NA</td><td>1</td></tr>\n",
       "\t<tr><th scope=row>4</th><td>6</td><td>6</td><td>monastery</td><td>M</td><td>E</td><td> 1.5780909</td><td>1</td><td>10</td><td>1</td></tr>\n",
       "\t<tr><th scope=row>5</th><td>7</td><td>7</td><td>monastery</td><td>M</td><td>O</td><td> 0.4152871</td><td>0</td><td> 8</td><td>1</td></tr>\n",
       "\t<tr><th scope=row>6</th><td>8</td><td>8</td><td>monastery</td><td>M</td><td>O</td><td>-0.7475167</td><td>0</td><td> 6</td><td>1</td></tr>\n",
       "</tbody>\n",
       "</table>\n"
      ],
      "text/latex": [
       "A data.frame: 6 × 9\n",
       "\\begin{tabular}{r|lllllllll}\n",
       "  & ID & Idsub & Place\\_code & Gender & Majority & age & Majorityval & age\\_non & monestry\\_val\\\\\n",
       "  & <int> & <int> & <chr> & <chr> & <chr> & <dbl> & <dbl> & <int> & <dbl>\\\\\n",
       "\\hline\n",
       "\t1 & 2 & 2 & monastery & M & O &  0.9966890 & 0 &  9 & 1\\\\\n",
       "\t2 & 3 & 3 & monastery & M & E &  0.9966890 & 1 &  9 & 1\\\\\n",
       "\t3 & 5 & 5 & monastery & M & E &         NA & 1 & NA & 1\\\\\n",
       "\t4 & 6 & 6 & monastery & M & E &  1.5780909 & 1 & 10 & 1\\\\\n",
       "\t5 & 7 & 7 & monastery & M & O &  0.4152871 & 0 &  8 & 1\\\\\n",
       "\t6 & 8 & 8 & monastery & M & O & -0.7475167 & 0 &  6 & 1\\\\\n",
       "\\end{tabular}\n"
      ],
      "text/markdown": [
       "\n",
       "A data.frame: 6 × 9\n",
       "\n",
       "| <!--/--> | ID &lt;int&gt; | Idsub &lt;int&gt; | Place_code &lt;chr&gt; | Gender &lt;chr&gt; | Majority &lt;chr&gt; | age &lt;dbl&gt; | Majorityval &lt;dbl&gt; | age_non &lt;int&gt; | monestry_val &lt;dbl&gt; |\n",
       "|---|---|---|---|---|---|---|---|---|---|\n",
       "| 1 | 2 | 2 | monastery | M | O |  0.9966890 | 0 |  9 | 1 |\n",
       "| 2 | 3 | 3 | monastery | M | E |  0.9966890 | 1 |  9 | 1 |\n",
       "| 3 | 5 | 5 | monastery | M | E |         NA | 1 | NA | 1 |\n",
       "| 4 | 6 | 6 | monastery | M | E |  1.5780909 | 1 | 10 | 1 |\n",
       "| 5 | 7 | 7 | monastery | M | O |  0.4152871 | 0 |  8 | 1 |\n",
       "| 6 | 8 | 8 | monastery | M | O | -0.7475167 | 0 |  6 | 1 |\n",
       "\n"
      ],
      "text/plain": [
       "  ID Idsub Place_code Gender Majority age        Majorityval age_non\n",
       "1 2  2     monastery  M      O         0.9966890 0            9     \n",
       "2 3  3     monastery  M      E         0.9966890 1            9     \n",
       "3 5  5     monastery  M      E                NA 1           NA     \n",
       "4 6  6     monastery  M      E         1.5780909 1           10     \n",
       "5 7  7     monastery  M      O         0.4152871 0            8     \n",
       "6 8  8     monastery  M      O        -0.7475167 0            6     \n",
       "  monestry_val\n",
       "1 1           \n",
       "2 1           \n",
       "3 1           \n",
       "4 1           \n",
       "5 1           \n",
       "6 1           "
      ]
     },
     "metadata": {},
     "output_type": "display_data"
    }
   ],
   "source": [
    "monestry_val<-numeric(dim(df)[1])\n",
    "monestry_val[df$Place_code == \"monastery\"]<-1\n",
    "monestry_val[df$Place_code  != \"monastery\"]<-0\n",
    "\n",
    "df<-dplyr::mutate(df, monestry_val)\n",
    "head(df)"
   ]
  },
  {
   "cell_type": "markdown",
   "metadata": {},
   "source": [
    "### Chi-squared test and crosstable"
   ]
  },
  {
   "cell_type": "code",
   "execution_count": 19,
   "metadata": {
    "scrolled": true
   },
   "outputs": [
    {
     "data": {
      "text/plain": [
       "   \n",
       "     E  O\n",
       "  0 15  7\n",
       "  1 10 19"
      ]
     },
     "metadata": {},
     "output_type": "display_data"
    },
    {
     "data": {
      "text/plain": [
       "\n",
       "\tPearson's Chi-squared test with Yates' continuity correction\n",
       "\n",
       "data:  .\n",
       "X-squared = 4.4163, df = 1, p-value = 0.0356\n"
      ]
     },
     "metadata": {},
     "output_type": "display_data"
    },
    {
     "data": {
      "text/plain": [
       "\n",
       "\tFisher's Exact Test for Count Data\n",
       "\n",
       "data:  .\n",
       "p-value = 0.02452\n",
       "alternative hypothesis: true odds ratio is not equal to 1\n",
       "95 percent confidence interval:\n",
       "  1.088883 15.760320\n",
       "sample estimates:\n",
       "odds ratio \n",
       "  3.951719 \n"
      ]
     },
     "metadata": {},
     "output_type": "display_data"
    },
    {
     "data": {
      "image/png": "[encoded data removed]",
      "text/plain": [
       "Plot with title “.”"
      ]
     },
     "metadata": {
      "image/png": {
       "height": 420,
       "width": 420
      }
     },
     "output_type": "display_data"
    }
   ],
   "source": [
    "table(df$monestry_val, df$Majority)\n",
    "table(df$monestry_val, df$Majority) %>% plot()\n",
    "table(df$monestry_val, df$Majority) %>% chisq.test()\n",
    "table(df$monestry_val, df$Majority) %>% fisher.test()"
   ]
  },
  {
   "cell_type": "markdown",
   "metadata": {},
   "source": [
    "### Phi coefficient"
   ]
  },
  {
   "cell_type": "code",
   "execution_count": 20,
   "metadata": {},
   "outputs": [
    {
     "data": {
      "text/html": [
       "0.33"
      ],
      "text/latex": [
       "0.33"
      ],
      "text/markdown": [
       "0.33"
      ],
      "text/plain": [
       "[1] 0.33"
      ]
     },
     "metadata": {},
     "output_type": "display_data"
    }
   ],
   "source": [
    "## Phi coefficient calculated from the matrix\n",
    "\n",
    "table(df$monestry_val, df$Majority) %>% phi()"
   ]
  },
  {
   "cell_type": "code",
   "execution_count": 21,
   "metadata": {},
   "outputs": [
    {
     "data": {
      "text/html": [
       "0.291425541354642"
      ],
      "text/latex": [
       "0.291425541354642"
      ],
      "text/markdown": [
       "0.291425541354642"
      ],
      "text/plain": [
       "[1] 0.2914255"
      ]
     },
     "metadata": {},
     "output_type": "display_data"
    }
   ],
   "source": [
    "## Phi coefficient calculated from the chi-sq test\n",
    "sqrt(4.4163/52)"
   ]
  },
  {
   "cell_type": "markdown",
   "metadata": {},
   "source": [
    "## Descriptive Plot"
   ]
  },
  {
   "cell_type": "code",
   "execution_count": 22,
   "metadata": {},
   "outputs": [
    {
     "data": {
      "text/plain": [
       "               \n",
       "                 E  O\n",
       "  day_care      10  5\n",
       "  international  5  2\n",
       "  monastery     10 19"
      ]
     },
     "metadata": {},
     "output_type": "display_data"
    },
    {
     "data": {
      "image/png": "[encoded data removed]",
      "text/plain": [
       "Plot with title “table(df$Place_code, df$Majority)”"
      ]
     },
     "metadata": {
      "image/png": {
       "height": 420,
       "width": 420
      }
     },
     "output_type": "display_data"
    }
   ],
   "source": [
    "table(df$Place_code, df$Majority)\n",
    "plot(table(df$Place_code, df$Majority), col = c('gray65','gray85'), xlable)\n",
    "#plot(table(df$Majority, df$Place_code))"
   ]
  },
  {
   "cell_type": "code",
   "execution_count": null,
   "metadata": {},
   "outputs": [],
   "source": []
  }
 ],
 "metadata": {
  "kernelspec": {
   "display_name": "R",
   "language": "R",
   "name": "ir"
  },
  "language_info": {
   "codemirror_mode": "r",
   "file_extension": ".r",
   "mimetype": "text/x-r-source",
   "name": "R",
   "pygments_lexer": "r",
   "version": "4.0.3"
  },
  "toc": {
   "base_numbering": 1,
   "nav_menu": {},
   "number_sections": true,
   "sideBar": true,
   "skip_h1_title": false,
   "title_cell": "Table of Contents",
   "title_sidebar": "Contents",
   "toc_cell": false,
   "toc_position": {},
   "toc_section_display": true,
   "toc_window_display": true
  }
 },
 "nbformat": 4,
 "nbformat_minor": 4
}
